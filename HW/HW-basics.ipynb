{
 "cells": [
  {
   "cell_type": "code",
   "execution_count": 12,
   "metadata": {},
   "outputs": [
    {
     "name": "stdout",
     "output_type": "stream",
     "text": [
      "Фраза 1 длиннее фразы 2\n"
     ]
    }
   ],
   "source": [
    "phrase_1 = 'Насколько проще было бы писать программы, если бы не заказчики'\n",
    "phrase_2 = '640Кб должно хватить для любых задач. Билл Гейтс (по легенде)'\n",
    "if len(phrase_1) > len(phrase_2):\n",
    "    print(\"Фраза 1 длиннее фразы 2\")\n",
    "elif len(phrase_1) == len(phrase_2):\n",
    "    print(\"Фраза 1 равна фразе 2\")    \n",
    "else: print(\"Фраза 1 короче фразы 2\")"
   ]
  },
  {
   "cell_type": "code",
   "execution_count": 2,
   "metadata": {},
   "outputs": [
    {
     "name": "stdout",
     "output_type": "stream",
     "text": [
      "Введите год  2450\n",
      "Обычный год\n"
     ]
    }
   ],
   "source": [
    "year_def = int(input(\"Введите год  \"))\n",
    "if year_def % 4 != 0:\n",
    "    print(\"Обычный год\")\n",
    "elif year_def % 100 != 0:\n",
    "    print(\"Високосный год\")\n",
    "elif year_def  % 400 != 0:\n",
    "    print(\"Обычный год\")\n",
    "else: print(\"Високосный год\")"
   ]
  },
  {
   "cell_type": "code",
   "execution_count": 34,
   "metadata": {},
   "outputs": [
    {
     "name": "stdout",
     "output_type": "stream",
     "text": [
      "Введите день Вашего рождения 5\n",
      "Введите месяц Вашего рождения октябрь\n",
      "Весы\n"
     ]
    }
   ],
   "source": [
    "birth_day = int(input(\"Введите день Вашего рождения \"))\n",
    "birth_month = input(\"Введите месяц Вашего рождения \")\n",
    "                        \n",
    "if (birth_month == \"март\" and birth_day >= 21) or (birth_month == \"апрель\" and birth_day <= 20):\n",
    "    print(\"Овен\")\n",
    "elif (birth_month == \"апрель\" and birth_day >= 21) or (birth_month == \"май\" and birth_day <= 20):\n",
    "    print(\"Телец\")\n",
    "elif (birth_month  == \"май\" and birth_day >= 21) or (birth_month == \"июнь\" and birth_day <= 20):\n",
    "    print(\"Близнецы\")\n",
    "elif (birth_month  == \"июнь\" and birth_day >= 21) or (birth_month == \"июль\" and birth_day <= 22):\n",
    "    print(\"Рак\")\n",
    "elif (birth_month  == \"июль\" and birth_day >= 23) or (birth_month == \"август\" and birth_day <= 22):\n",
    "    print(\"Лев\")\n",
    "elif (birth_month  == \"август\" and birth_day >= 23) or (birth_month == \"сентябрь\" and birth_day <= 22):\n",
    "    print(\"Дева\") \n",
    "elif (birth_month  == \"сентябрь\" and birth_day >= 23) or (birth_month == \"октябрь\" and birth_day <= 22):\n",
    "    print(\"Весы\") \n",
    "elif (birth_month  == \"октябрь\" and birth_day >= 23) or (birth_month == \"ноябрь\" and birth_day <= 22):\n",
    "    print(\"Скорпион\") \n",
    "elif (birth_month  == \"ноябрь\" and birth_day >= 23) or (birth_month == \"декабрь\" and birth_day <= 21):\n",
    "    print(\"Стрелец\")\n",
    "elif (birth_month  == \"декабрь\" and birth_day >= 22) or (birth_month == \"январь\" and birth_day <= 19):\n",
    "    print(\"Козерог\") \n",
    "elif (birth_month  == \"январь\" and birth_day >= 20) or (birth_month == \"февраль\" and birth_day <= 19):\n",
    "    print(\"Водолей\") \n",
    "elif (birth_month  == \"февраль\" and birth_day >= 20) or (birth_month == \"март\" and birth_day <= 20):\n",
    "    print(\"Рыбы\")    "
   ]
  },
  {
   "cell_type": "code",
   "execution_count": 59,
   "metadata": {
    "scrolled": true
   },
   "outputs": [
    {
     "name": "stdout",
     "output_type": "stream",
     "text": [
      "Введите ширину товара в см 22\n",
      "Введите длину товара в см 198\n",
      "Введите высоту товара в см 49\n",
      "Стандартная коробка\n"
     ]
    }
   ],
   "source": [
    "width = int(input(\"Введите ширину товара в см \"))\n",
    "length = int(input(\"Введите длину товара в см \"))\n",
    "height = int(input(\"Введите высоту товара в см \"))\n",
    "\n",
    "if (width < 15) and (length < 15) and (height < 15):\n",
    "    print(\"Коробка №1\")\n",
    "elif (length > 200):\n",
    "    print(\"Упаковка для лыж\")\n",
    "elif ((15 < width and length > 15 and height < 50)\n",
    "    and (15 < length and height > 15 and width < 50)\n",
    "    and (15 < width and  height > 15 and length < 50)):\n",
    "    print(\"Корбка №2\")\n",
    "else: print(\"Стандартная коробка\")"
   ]
  }
 ],
 "metadata": {
  "kernelspec": {
   "display_name": "Python 3",
   "language": "python",
   "name": "python3"
  },
  "language_info": {
   "codemirror_mode": {
    "name": "ipython",
    "version": 3
   },
   "file_extension": ".py",
   "mimetype": "text/x-python",
   "name": "python",
   "nbconvert_exporter": "python",
   "pygments_lexer": "ipython3",
   "version": "3.7.6"
  }
 },
 "nbformat": 4,
 "nbformat_minor": 4
}
