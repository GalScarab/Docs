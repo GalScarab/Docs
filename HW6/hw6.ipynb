{
 "cells": [
  {
   "cell_type": "code",
   "execution_count": 10,
   "metadata": {},
   "outputs": [
    {
     "name": "stdout",
     "output_type": "stream",
     "text": [
      "1977-08-18 00:00:00\n"
     ]
    }
   ],
   "source": [
    "from datetime import datetime \n",
    "\n",
    "\"\"\"The Moscow Times\"\"\"\n",
    "\n",
    "d_tmt = 'Wednesday, October 2, 2002'\n",
    "tmt_datetime = datetime.strptime(d_tmt, '%A, %B %d, %Y')\n",
    "\n",
    "\"\"\"The Guardian\"\"\" \n",
    "\n",
    "d_tg = 'Friday, 11.10.13'\n",
    "tg_datetime = datetime.strptime(d_tg, '%A, %d.%m.%y')\n",
    "\n",
    "\"\"\"Daily News\"\"\"\n",
    "\n",
    "d_dn = 'Thursday, 18 August 1977'\n",
    "dn_datetime = datetime.strptime(d_dn, '%A, %d %B %Y')"
   ]
  },
  {
   "cell_type": "code",
   "execution_count": 2,
   "metadata": {},
   "outputs": [
    {
     "name": "stdout",
     "output_type": "stream",
     "text": [
      "True\n",
      "False\n",
      "False\n",
      "True\n",
      "True\n",
      "False\n"
     ]
    }
   ],
   "source": [
    "from datetime import datetime\n",
    "\n",
    "stream = ['2018-04-02', '2018-02-29', '2018-19-02', '2018-10-17', '2018-5-8', '2018-2-31']\n",
    "\n",
    "def checkit(stream):\n",
    "    for d in stream:\n",
    "        try:\n",
    "            datetime.strptime(d, '%Y-%m-%d')\n",
    "            print(True)\n",
    "        except ValueError:\n",
    "            print(False)\n",
    "\n",
    "checkit(stream)"
   ]
  },
  {
   "cell_type": "code",
   "execution_count": 20,
   "metadata": {},
   "outputs": [
    {
     "name": "stdout",
     "output_type": "stream",
     "text": [
      "['2017-01-02', '2017-01-03', '2017-01-04', '2017-01-05', '2017-01-06', '2017-01-07', '2017-01-08', '2017-01-09', '2017-01-10', '2017-01-11', '2017-01-12', '2017-01-13', '2017-01-14', '2017-01-15', '2017-01-16', '2017-01-17']\n"
     ]
    }
   ],
   "source": [
    "from datetime import datetime\n",
    "from datetime import timedelta\n",
    "\n",
    "s_date = '2017-01-01'\n",
    "e_date = '2017-01-16'\n",
    "\n",
    "def chekit(s_date, e_date):\n",
    "\n",
    "    datok = []\n",
    "    try:\n",
    "        current_dt = datetime.strptime(s_date, '%Y-%m-%d')\n",
    "        end_date = datetime.strptime(e_date, '%Y-%m-%d')\n",
    "        while current_dt <= end_date:\n",
    "            current_dt += timedelta(days = 1)\n",
    "            datok.append(current_dt.strftime('%Y-%m-%d'))\n",
    "        else:\n",
    "            None\n",
    "    except ValueError:\n",
    "        None\n",
    "    print(datok)\n",
    "    \n",
    "chekit(s_date, e_date)\n"
   ]
  }
 ],
 "metadata": {
  "celltoolbar": "Attachments",
  "kernelspec": {
   "display_name": "Python 3",
   "language": "python",
   "name": "python3"
  },
  "language_info": {
   "codemirror_mode": {
    "name": "ipython",
    "version": 3
   },
   "file_extension": ".py",
   "mimetype": "text/x-python",
   "name": "python",
   "nbconvert_exporter": "python",
   "pygments_lexer": "ipython3",
   "version": "3.7.6"
  }
 },
 "nbformat": 4,
 "nbformat_minor": 4
}
