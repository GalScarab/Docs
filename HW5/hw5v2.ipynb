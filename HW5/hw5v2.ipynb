{
 "cells": [
  {
   "cell_type": "code",
   "execution_count": 2,
   "metadata": {},
   "outputs": [],
   "source": [
    "import json\n",
    "\n",
    "pur_dict = {}\n",
    "\n",
    "f = open('purchase_log.txt', 'r', encoding = 'utf-8')\n",
    "next(f)\n",
    "for i, line in enumerate(f):\n",
    "    line = line.strip(',')\n",
    "    dict_ = json.loads(line)\n",
    "    key = dict_['user_id']\n",
    "    value = dict_['category']\n",
    "    pur_dict[key] = value\n",
    "            \n",
    "\n",
    "with open('visit_log.csv', 'r') as f: \n",
    "    with open('funnel.csv', 'w') as n_f:\n",
    "        for tier in f:\n",
    "            line_list = tier.strip().split(',')\n",
    "            if line_list[0] in pur_dict.keys():\n",
    "                line_list.append(pur_dict[line_list[0]]) \n",
    "                add_line = ','.join(line_list)\n",
    "                n_f.write(add_line + '\\n')\n",
    "            else:\n",
    "                None"
   ]
  },
  {
   "cell_type": "code",
   "execution_count": null,
   "metadata": {},
   "outputs": [],
   "source": []
  }
 ],
 "metadata": {
  "kernelspec": {
   "display_name": "Python 3",
   "language": "python",
   "name": "python3"
  },
  "language_info": {
   "codemirror_mode": {
    "name": "ipython",
    "version": 3
   },
   "file_extension": ".py",
   "mimetype": "text/x-python",
   "name": "python",
   "nbconvert_exporter": "python",
   "pygments_lexer": "ipython3",
   "version": "3.7.6"
  }
 },
 "nbformat": 4,
 "nbformat_minor": 4
}
