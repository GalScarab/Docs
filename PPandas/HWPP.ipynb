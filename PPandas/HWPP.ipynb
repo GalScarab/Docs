{
 "cells": [
  {
   "cell_type": "code",
   "execution_count": 1,
   "metadata": {},
   "outputs": [
    {
     "data": {
      "text/plain": [
       "direct     0.370314\n",
       "organic    0.285511\n",
       "ad         0.200127\n",
       "other      0.144049\n",
       "Name: source_type, dtype: float64"
      ]
     },
     "execution_count": 1,
     "metadata": {},
     "output_type": "execute_result"
    }
   ],
   "source": [
    "import pandas as pd\n",
    "log = pd.read_csv('visit_log.csv', sep=';')\n",
    "log['source_type'] = log.traffic_source\n",
    "log.loc[((log.traffic_source == 'yandex') | (log.traffic_source == 'google')),\\\n",
    "        'source_type'] = 'organic'\n",
    "log.loc[((log.traffic_source == 'paid') | (log.traffic_source == 'email')),\\\n",
    "        'source_type'] = 'other'\n",
    "log.loc[((log.traffic_source == 'paid') & (log.region == 'Russia') | \\\n",
    "         (log.traffic_source == 'email') & (log.region == 'Russia')) , 'source_type'] = 'ad'\n",
    "log['source_type'].value_counts(normalize=True)"
   ]
  },
  {
   "cell_type": "code",
   "execution_count": 32,
   "metadata": {},
   "outputs": [
    {
     "data": {
      "text/html": [
       "<div>\n",
       "<style scoped>\n",
       "    .dataframe tbody tr th:only-of-type {\n",
       "        vertical-align: middle;\n",
       "    }\n",
       "\n",
       "    .dataframe tbody tr th {\n",
       "        vertical-align: top;\n",
       "    }\n",
       "\n",
       "    .dataframe thead th {\n",
       "        text-align: right;\n",
       "    }\n",
       "</style>\n",
       "<table border=\"1\" class=\"dataframe\">\n",
       "  <thead>\n",
       "    <tr style=\"text-align: right;\">\n",
       "      <th></th>\n",
       "      <th>url</th>\n",
       "      <th>News</th>\n",
       "    </tr>\n",
       "  </thead>\n",
       "  <tbody>\n",
       "    <tr>\n",
       "      <th>3</th>\n",
       "      <td>/politics/36188461-s-marta-zhizn-rossiyan-susc...</td>\n",
       "      <td>/politics/36188461-s-marta-zhizn-rossiyan-susc...</td>\n",
       "    </tr>\n",
       "    <tr>\n",
       "      <th>4</th>\n",
       "      <td>/world/36007585-tramp-pridumal-kak-reshit-ukra...</td>\n",
       "      <td>/world/36007585-tramp-pridumal-kak-reshit-ukra...</td>\n",
       "    </tr>\n",
       "    <tr>\n",
       "      <th>5</th>\n",
       "      <td>/science/36157853-nasa-sobiraet-ekstrennuyu-pr...</td>\n",
       "      <td>/science/36157853-nasa-sobiraet-ekstrennuyu-pr...</td>\n",
       "    </tr>\n",
       "    <tr>\n",
       "      <th>6</th>\n",
       "      <td>/video/36001498-poyavilis-pervye-podrobnosti-g...</td>\n",
       "      <td>/video/36001498-poyavilis-pervye-podrobnosti-g...</td>\n",
       "    </tr>\n",
       "    <tr>\n",
       "      <th>7</th>\n",
       "      <td>/world/36007585-tramp-pridumal-kak-reshit-ukra...</td>\n",
       "      <td>/world/36007585-tramp-pridumal-kak-reshit-ukra...</td>\n",
       "    </tr>\n",
       "  </tbody>\n",
       "</table>\n",
       "</div>"
      ],
      "text/plain": [
       "                                                 url  \\\n",
       "3  /politics/36188461-s-marta-zhizn-rossiyan-susc...   \n",
       "4  /world/36007585-tramp-pridumal-kak-reshit-ukra...   \n",
       "5  /science/36157853-nasa-sobiraet-ekstrennuyu-pr...   \n",
       "6  /video/36001498-poyavilis-pervye-podrobnosti-g...   \n",
       "7  /world/36007585-tramp-pridumal-kak-reshit-ukra...   \n",
       "\n",
       "                                                News  \n",
       "3  /politics/36188461-s-marta-zhizn-rossiyan-susc...  \n",
       "4  /world/36007585-tramp-pridumal-kak-reshit-ukra...  \n",
       "5  /science/36157853-nasa-sobiraet-ekstrennuyu-pr...  \n",
       "6  /video/36001498-poyavilis-pervye-podrobnosti-g...  \n",
       "7  /world/36007585-tramp-pridumal-kak-reshit-ukra...  "
      ]
     },
     "execution_count": 32,
     "metadata": {},
     "output_type": "execute_result"
    }
   ],
   "source": [
    "import pandas as pd\n",
    "import re\n",
    "n = pd.read_csv('URLs.txt')\n",
    "n['News'] = n.loc[n.url.str.contains(r'/\\d{8}-')]\n",
    "n = n.loc[~ pd.isnull(n.News), :]\n",
    "n.head()"
   ]
  },
  {
   "cell_type": "code",
   "execution_count": 42,
   "metadata": {},
   "outputs": [
    {
     "data": {
      "text/plain": [
       "1059.4150235441748"
      ]
     },
     "execution_count": 42,
     "metadata": {},
     "output_type": "execute_result"
    }
   ],
   "source": [
    "import pandas as pd\n",
    "rt = pd.read_csv('ratings.csv')\n",
    "rt = rt.groupby('userId').filter(lambda x: len(x) > 100)\n",
    "rt['date'] = pd.to_datetime(rt['timestamp'], unit = 's')\n",
    "rt['difference'] = rt.groupby('userId')['date'].transform(lambda x: (x.max()-x.min()).days)\n",
    "rt['difference'].mean()"
   ]
  },
  {
   "cell_type": "code",
   "execution_count": 2,
   "metadata": {},
   "outputs": [
    {
     "name": "stdout",
     "output_type": "stream",
     "text": [
      "   client_id rzd_revenue auto_revenue air_revenue          address\n",
      "0        111        1093            0           0  Комсомольская 4\n",
      "1        112        2810            0           0   Энтузиастов 8а\n",
      "2        113       10283        57483           0  Левобережная 1а\n",
      "3        114        5774           83           0          Мира 14\n",
      "4        115         981          912          81        ЗЖБИиДК 1\n",
      "5        116           0         4834           4    Строителей 18\n",
      "6        117           0           98          13  Панфиловская 33\n",
      "7        118           0            0         173     Мастеркова 4\n"
     ]
    },
    {
     "data": {
      "text/plain": [
       "True"
      ]
     },
     "execution_count": 2,
     "metadata": {},
     "output_type": "execute_result"
    }
   ],
   "source": [
    "import pandas as pd\n",
    "rzd = pd.DataFrame(\n",
    "    {\n",
    "        'client_id': [111, 112, 113, 114, 115],\n",
    "        'rzd_revenue': [1093, 2810, 10283, 5774, 981]\n",
    "    }\n",
    ")\n",
    "\n",
    "auto = pd.DataFrame(\n",
    "    {\n",
    "        'client_id': [113, 114, 115, 116, 117],\n",
    "        'auto_revenue': [57483, 83, 912, 4834, 98]\n",
    "    }\n",
    ")\n",
    "\n",
    "air = pd.DataFrame(\n",
    "    {\n",
    "        'client_id': [115, 116, 117, 118],\n",
    "        'air_revenue': [81, 4, 13, 173]\n",
    "    }\n",
    ")\n",
    "\n",
    "client_base = pd.DataFrame(\n",
    "    {\n",
    "        'client_id': [111, 112, 113, 114, 115, 116, 117, 118],\n",
    "        'address': ['Комсомольская 4', 'Энтузиастов 8а', 'Левобережная 1а', 'Мира 14', 'ЗЖБИиДК 1', \n",
    "                    'Строителей 18', 'Панфиловская 33', 'Мастеркова 4']\n",
    "    }\n",
    ")\n",
    "\n",
    "united1 = pd.merge(rzd, auto, on = 'client_id', how = 'outer')\n",
    "united2 = pd.merge(united1, air, on = 'client_id', how = 'outer')\n",
    "withaddress = pd.merge(united2, client_base, on ='client_id', how ='left')\n",
    "withaddress.fillna('0', inplace = True)\n",
    "without = withaddress.drop(['address'], axis=1)\n",
    "print(withaddress)\n",
    "len(withaddress) == len(client_base)"
   ]
  },
  {
   "cell_type": "code",
   "execution_count": null,
   "metadata": {},
   "outputs": [],
   "source": []
  }
 ],
 "metadata": {
  "kernelspec": {
   "display_name": "Python 3",
   "language": "python",
   "name": "python3"
  },
  "language_info": {
   "codemirror_mode": {
    "name": "ipython",
    "version": 3
   },
   "file_extension": ".py",
   "mimetype": "text/x-python",
   "name": "python",
   "nbconvert_exporter": "python",
   "pygments_lexer": "ipython3",
   "version": "3.7.6"
  }
 },
 "nbformat": 4,
 "nbformat_minor": 4
}
