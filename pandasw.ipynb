{
 "cells": [
  {
   "cell_type": "code",
   "execution_count": 1,
   "metadata": {},
   "outputs": [
    {
     "data": {
      "text/plain": [
       "title                                      movieId  rating\n",
       "Shawshank Redemption, The (1994)           318      5.0       153\n",
       "Pulp Fiction (1994)                        296      5.0       123\n",
       "Forrest Gump (1994)                        356      5.0       116\n",
       "Matrix, The (1999)                         2571     5.0       109\n",
       "Star Wars: Episode IV - A New Hope (1977)  260      5.0       104\n",
       "                                                             ... \n",
       "In Bruges (2008)                           57669    5.0        10\n",
       "Royal Tenenbaums, The (2001)               4979     5.0        10\n",
       "Bourne Ultimatum, The (2007)               54286    5.0        10\n",
       "Boogie Nights (1997)                       1673     5.0        10\n",
       "Bonnie and Clyde (1967)                    1084     5.0         9\n",
       "Name: userId, Length: 321, dtype: int64"
      ]
     },
     "execution_count": 1,
     "metadata": {},
     "output_type": "execute_result"
    }
   ],
   "source": [
    "import pandas as pd\n",
    "df_ratings = pd.read_csv('ratings.csv')\n",
    "df_movies = pd.read_csv('movies.csv')\n",
    "df_movrat = df_ratings[['movieId', 'rating', 'userId']].merge(df_movies[['movieId', 'title']],\\\n",
    "on ='movieId', how = 'left')\n",
    "df_movrat.query('rating == 5.0', inplace = True)\n",
    "df_movrat.groupby(['title', 'movieId', 'rating'])\\\n",
    "['userId'].count().sort_values(0, False).head(321)\n"
   ]
  },
  {
   "cell_type": "code",
   "execution_count": 2,
   "metadata": {},
   "outputs": [
    {
     "name": "stdout",
     "output_type": "stream",
     "text": [
      "Cуммарное потребление энергии странами Прибалтики: 240580.0\n"
     ]
    }
   ],
   "source": [
    "import pandas as pd\n",
    "power = pd.read_csv('power.csv')\n",
    "power.query('category == 4 | category == 12 | category == 21', inplace = True) \n",
    "power.query('year >= 2005 & year <= 2010 & quantity > 0', inplace = True)\n",
    "power.query('country == \"Estonia\" | country == \"Latvia\"| country == \"Lithuania\"'\\\n",
    ", inplace = True)\n",
    "itogo = power['quantity'].sum()\n",
    "print('Cуммарное потребление энергии странами Прибалтики:', itogo)"
   ]
  },
  {
   "cell_type": "code",
   "execution_count": 3,
   "metadata": {},
   "outputs": [
    {
     "name": "stdout",
     "output_type": "stream",
     "text": [
      "                      Драгметаллы  Посл. зн.  Пред. закр.  Изменение (%)  \\\n",
      "0                          Золото   1 866,29     1 869,89        -0,19 %   \n",
      "1                        Палладий   2 909,00     2 906,00         0,10 %   \n",
      "2                         Платина   1 218,50     1 222,50        -0,33 %   \n",
      "3                         Серебро       2793         2818        -0,88 %   \n",
      "4                  Энергоносители  Посл. зн.  Пред. закр.  Изменение (%)   \n",
      "5       Природный газ (Henry Hub)        299          301        -0,60 %   \n",
      "6                           Мазут       5389         5416        -0,49 %   \n",
      "7                   Нефть (Brent)       6785         6859        -1,08 %   \n",
      "8                     Нефть (WTI)       6464         6529        -1,00 %   \n",
      "9                         Металлы  Посл. зн.  Пред. закр.  Изменение (%)   \n",
      "10                       Алюминий   2 484,75     2 504,35        -0,78 %   \n",
      "11                         Свинец   2 220,80     2 189,45         1,43 %   \n",
      "12                         Никель  18 120,50    17 724,00         2,24 %   \n",
      "13                           Цинк   3 063,35     2 954,15         3,70 %   \n",
      "14                  C/x продукция  Посл. зн.  Пред. закр.  Изменение (%)   \n",
      "15                         Хлопок        084          084        -0,23 %   \n",
      "16                           Овёс        357          357         0,14 %   \n",
      "17                           Кофе        147          146         0,79 %   \n",
      "18                          Какао   1 689,00     1 699,00        -0,59 %   \n",
      "19                       Кукуруза        655          659        -0,72 %   \n",
      "20          Замороженная говядина        137          138        -0,69 %   \n",
      "21                         Молоко       1888         1884         0,21 %   \n",
      "22  Концентрат апельсинового сока        117          118        -1,27 %   \n",
      "23                    Соевые бобы       1569         1575        -0,33 %   \n",
      "24                        Пшеница      21475        21350         0,59 %   \n",
      "25                          Сахар        017          017         1,18 %   \n",
      "\n",
      "    Изменение       Время             Ед. измерения  \n",
      "0        -360    06:07:00        USD/Тройская унция  \n",
      "1         300    06:07:00        USD/Тройская унция  \n",
      "2        -400    05:55:00        USD/Тройская унция  \n",
      "3        -025    06:07:00        USD/Тройская унция  \n",
      "4   Изменение       Время             Ед. измерения  \n",
      "5        -002    05:57:00               USD/млн БТЕ  \n",
      "6        -026    05:52:00            USD/100 литров  \n",
      "7        -074    05:57:00               USD/Баррель  \n",
      "8        -065    05:57:00               USD/Баррель  \n",
      "9   Изменение       Время             Ед. измерения  \n",
      "10      -1960  18.05.2021                 USD/Тонна  \n",
      "11       3135  18.05.2021                 USD/Тонна  \n",
      "12      39650  18.05.2021                 USD/Тонна  \n",
      "13      10920  18.05.2021                 USD/Тонна  \n",
      "14  Изменение       Время             Ед. измерения  \n",
      "15        000    05:56:00                  USc/Фунт  \n",
      "16        001    05:31:00                USc/Бушель  \n",
      "17        001  18.05.2021                  USc/Фунт  \n",
      "18      -1000  18.05.2021                 GBP/Тонна  \n",
      "19       -005    05:57:00                USc/Бушель  \n",
      "20       -001  18.05.2021                  USc/Фунт  \n",
      "21        004  18.05.2021  USD/Американский центнер  \n",
      "22       -002  18.05.2021                  USc/Фунт  \n",
      "23       -005    05:57:00                USc/Бушель  \n",
      "24        125  18.05.2021                 USc/Тонна  \n",
      "25        000  18.05.2021                  USc/Фунт  \n"
     ]
    }
   ],
   "source": [
    "import pandas as pd\n",
    "commodities = pd.read_html('https://www.finanz.ru/birzhevyye-tovary/v-realnom-vremeni', match = 'Палладий',  encoding = 'utf-8')[0]\n",
    "commodities.drop(('Unnamed: 0'), axis = 1, inplace=True)\n",
    "print(commodities)\n"
   ]
  }
 ],
 "metadata": {
  "kernelspec": {
   "display_name": "Python 3",
   "language": "python",
   "name": "python3"
  },
  "language_info": {
   "codemirror_mode": {
    "name": "ipython",
    "version": 3
   },
   "file_extension": ".py",
   "mimetype": "text/x-python",
   "name": "python",
   "nbconvert_exporter": "python",
   "pygments_lexer": "ipython3",
   "version": "3.7.6"
  }
 },
 "nbformat": 4,
 "nbformat_minor": 4
}
